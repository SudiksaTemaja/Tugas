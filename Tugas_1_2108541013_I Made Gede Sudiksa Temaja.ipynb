{
 "cells": [
  {
   "cell_type": "code",
   "execution_count": 1,
   "id": "4906e8b5",
   "metadata": {},
   "outputs": [
    {
     "name": "stdout",
     "output_type": "stream",
     "text": [
      "5.1 Print\n"
     ]
    }
   ],
   "source": [
    "print('5.1 Print')"
   ]
  },
  {
   "cell_type": "code",
   "execution_count": 2,
   "id": "d2c88639",
   "metadata": {},
   "outputs": [
    {
     "name": "stdout",
     "output_type": "stream",
     "text": [
      "Ini Prodi Matematika\n"
     ]
    }
   ],
   "source": [
    "print ('Ini Prodi Matematika')"
   ]
  },
  {
   "cell_type": "code",
   "execution_count": 3,
   "id": "3775b4ab",
   "metadata": {},
   "outputs": [
    {
     "name": "stdout",
     "output_type": "stream",
     "text": [
      "I don't understand what are you saying\n"
     ]
    }
   ],
   "source": [
    "print (\"I don't understand what are you saying\")"
   ]
  },
  {
   "cell_type": "code",
   "execution_count": 4,
   "id": "c4b45361",
   "metadata": {},
   "outputs": [
    {
     "ename": "SyntaxError",
     "evalue": "invalid syntax (Temp/ipykernel_1360/1592251594.py, line 1)",
     "output_type": "error",
     "traceback": [
      "\u001b[1;36m  File \u001b[1;32m\"C:\\Users\\PAKSUD~1\\AppData\\Local\\Temp/ipykernel_1360/1592251594.py\"\u001b[1;36m, line \u001b[1;32m1\u001b[0m\n\u001b[1;33m    print ('i don't understan what are you saying')\u001b[0m\n\u001b[1;37m                  ^\u001b[0m\n\u001b[1;31mSyntaxError\u001b[0m\u001b[1;31m:\u001b[0m invalid syntax\n"
     ]
    }
   ],
   "source": [
    "print ('i don't understan what are you saying')"
   ]
  },
  {
   "cell_type": "code",
   "execution_count": 5,
   "id": "fcc30e82",
   "metadata": {},
   "outputs": [
    {
     "name": "stdout",
     "output_type": "stream",
     "text": [
      "he is such a \"GENIUS\"\n"
     ]
    }
   ],
   "source": [
    "print ('he is such a \"GENIUS\"')"
   ]
  },
  {
   "cell_type": "code",
   "execution_count": 6,
   "id": "42141249",
   "metadata": {},
   "outputs": [
    {
     "ename": "SyntaxError",
     "evalue": "invalid syntax (Temp/ipykernel_1360/835909250.py, line 1)",
     "output_type": "error",
     "traceback": [
      "\u001b[1;36m  File \u001b[1;32m\"C:\\Users\\PAKSUD~1\\AppData\\Local\\Temp/ipykernel_1360/835909250.py\"\u001b[1;36m, line \u001b[1;32m1\u001b[0m\n\u001b[1;33m    print (\"he is such a \"GENIUS\"\")\u001b[0m\n\u001b[1;37m                          ^\u001b[0m\n\u001b[1;31mSyntaxError\u001b[0m\u001b[1;31m:\u001b[0m invalid syntax\n"
     ]
    }
   ],
   "source": [
    "print (\"he is such a \"GENIUS\"\")"
   ]
  },
  {
   "cell_type": "code",
   "execution_count": 7,
   "id": "a6f3525d",
   "metadata": {},
   "outputs": [
    {
     "name": "stdout",
     "output_type": "stream",
     "text": [
      "42\n",
      "10000\n",
      "420000\n"
     ]
    }
   ],
   "source": [
    "Jumlah_mahasiswa = 42\n",
    "Uang_di_dompet_mahasiswa = 10000\n",
    "print (Jumlah_mahasiswa)\n",
    "print (Uang_di_dompet_mahasiswa)\n",
    "print (Jumlah_mahasiswa*Uang_di_dompet_mahasiswa)"
   ]
  },
  {
   "cell_type": "code",
   "execution_count": 8,
   "id": "447bf337",
   "metadata": {},
   "outputs": [
    {
     "name": "stdout",
     "output_type": "stream",
     "text": [
      "Sudiksa Temaja\n"
     ]
    }
   ],
   "source": [
    "nama_depan = 'Sudiksa'\n",
    "nama_tengah = ' '\n",
    "nama_belakang = 'Temaja'\n",
    "print (nama_depan+nama_tengah+nama_belakang)"
   ]
  },
  {
   "cell_type": "code",
   "execution_count": null,
   "id": "dca52906",
   "metadata": {},
   "outputs": [],
   "source": []
  },
  {
   "cell_type": "code",
   "execution_count": 9,
   "id": "0cd1241e",
   "metadata": {},
   "outputs": [
    {
     "name": "stdout",
     "output_type": "stream",
     "text": [
      "5.2 Input\n"
     ]
    }
   ],
   "source": [
    "print('5.2 Input')"
   ]
  },
  {
   "cell_type": "code",
   "execution_count": 10,
   "id": "f9d1fb5d",
   "metadata": {},
   "outputs": [
    {
     "name": "stdout",
     "output_type": "stream",
     "text": [
      "siapakah nama anda? Sudiksa\n",
      "apakah kegiatan anda sekarang, Sudiksa?belajar Algoritma dan struktur data\n",
      "semangat belajar Algoritma dan struktur datanya yaa, Sudiksa! :)\n"
     ]
    }
   ],
   "source": [
    "nama = input (\"siapakah nama anda? \")\n",
    "kegiatan = input ('apakah kegiatan anda sekarang, ' + nama + \"?\")\n",
    "print (\"semangat \" + kegiatan + \"nya yaa, \" + nama +\"! :)\")"
   ]
  },
  {
   "cell_type": "code",
   "execution_count": null,
   "id": "9f63d0b4",
   "metadata": {},
   "outputs": [],
   "source": []
  },
  {
   "cell_type": "code",
   "execution_count": 11,
   "id": "899b0217",
   "metadata": {},
   "outputs": [
    {
     "name": "stdout",
     "output_type": "stream",
     "text": [
      "5.3 Tipe Data pada Python\n"
     ]
    }
   ],
   "source": [
    "print('5.3 Tipe Data pada Python')"
   ]
  },
  {
   "cell_type": "code",
   "execution_count": 12,
   "id": "3c00ef63",
   "metadata": {},
   "outputs": [
    {
     "name": "stdout",
     "output_type": "stream",
     "text": [
      "berapa uang Desu di dompet? 29000\n",
      "berapa uang Desu di atm? 100000\n",
      "total uang Desu Rp.29000100000\n"
     ]
    }
   ],
   "source": [
    "uang_di_dompet_Desu = input (\"berapa uang Desu di dompet? \")\n",
    "uang_di_atm_Desu = input (\"berapa uang Desu di atm? \")\n",
    "print (\"total uang Desu Rp.\" + uang_di_dompet_Desu + uang_di_atm_Desu)"
   ]
  },
  {
   "cell_type": "code",
   "execution_count": 13,
   "id": "fd1f158f",
   "metadata": {},
   "outputs": [
    {
     "name": "stdout",
     "output_type": "stream",
     "text": [
      "berapa uang desu di dompet? 17000\n",
      "berapa uang desu di atm? 400000\n",
      "total uang desu Rp.417000\n"
     ]
    }
   ],
   "source": [
    "uang_di_dompet_desu = input (\"berapa uang desu di dompet? \")\n",
    "uang_di_atm_desu = input (\"berapa uang desu di atm? \")\n",
    "total_uang = int(uang_di_dompet_desu) + int(uang_di_atm_desu)\n",
    "print (\"total uang desu Rp.\" + str(total_uang))"
   ]
  },
  {
   "cell_type": "code",
   "execution_count": 14,
   "id": "e57bd939",
   "metadata": {},
   "outputs": [
    {
     "data": {
      "text/plain": [
       "int"
      ]
     },
     "execution_count": 14,
     "metadata": {},
     "output_type": "execute_result"
    }
   ],
   "source": [
    "type(total_uang)"
   ]
  },
  {
   "cell_type": "code",
   "execution_count": 15,
   "id": "691ac96c",
   "metadata": {},
   "outputs": [
    {
     "data": {
      "text/plain": [
       "str"
      ]
     },
     "execution_count": 15,
     "metadata": {},
     "output_type": "execute_result"
    }
   ],
   "source": [
    "type(uang_di_dompet_desu)"
   ]
  },
  {
   "cell_type": "code",
   "execution_count": 16,
   "id": "79aa10b9",
   "metadata": {},
   "outputs": [
    {
     "data": {
      "text/plain": [
       "str"
      ]
     },
     "execution_count": 16,
     "metadata": {},
     "output_type": "execute_result"
    }
   ],
   "source": [
    "type(uang_di_atm_desu)"
   ]
  },
  {
   "cell_type": "code",
   "execution_count": 17,
   "id": "88c131ed",
   "metadata": {},
   "outputs": [
    {
     "name": "stdout",
     "output_type": "stream",
     "text": [
      "masukan angka pertama: 189\n",
      "masukan angka kedua: 11\n",
      "jumlah kedua angka tersebut 200.0\n"
     ]
    }
   ],
   "source": [
    "angka_pertama = input(\"masukan angka pertama: \")\n",
    "angka_kedua = input(\"masukan angka kedua: \")\n",
    "jumlah = float(angka_pertama) + float(angka_kedua)\n",
    "print(\"jumlah kedua angka tersebut \" + str(jumlah))"
   ]
  },
  {
   "cell_type": "code",
   "execution_count": null,
   "id": "fb716b76",
   "metadata": {},
   "outputs": [],
   "source": []
  },
  {
   "cell_type": "code",
   "execution_count": 18,
   "id": "59ccfd67",
   "metadata": {},
   "outputs": [
    {
     "name": "stdout",
     "output_type": "stream",
     "text": [
      "5.4 Formatted String\n"
     ]
    }
   ],
   "source": [
    "print('5.4 Formatted String')"
   ]
  },
  {
   "cell_type": "code",
   "execution_count": 19,
   "id": "f6d7475c",
   "metadata": {},
   "outputs": [
    {
     "name": "stdout",
     "output_type": "stream",
     "text": [
      "Nama anda adalah Sudiksa\n",
      "Pekerjaan anda adalah mahasiswa\n",
      "Institusi anda adalah Universitas Udayana\n",
      "Nama saya adalah Sudiksa. Saya bekerja sebagai mahasiswa di Universitas Udayana.\n"
     ]
    }
   ],
   "source": [
    "nama_013 = input(\"Nama anda adalah \")\n",
    "pekerjaan_013 = input(\"Pekerjaan anda adalah \")\n",
    "institusi_013 = input(\"Institusi anda adalah \")\n",
    "print(\"Nama saya adalah \" + nama_013 +\". Saya bekerja sebagai \"+ pekerjaan_013 +\" di \"+ institusi_013 + \".\")"
   ]
  },
  {
   "cell_type": "code",
   "execution_count": 20,
   "id": "e067a5a0",
   "metadata": {},
   "outputs": [
    {
     "name": "stdout",
     "output_type": "stream",
     "text": [
      "Nama saya adalah Sudiksa. Saya bekerja sebagai mahasiswa di Universitas Udayana. \n"
     ]
    }
   ],
   "source": [
    "print(f'Nama saya adalah {nama_013}. Saya bekerja sebagai {pekerjaan_013} di {institusi_013}. ')"
   ]
  },
  {
   "cell_type": "code",
   "execution_count": 21,
   "id": "19648b79",
   "metadata": {},
   "outputs": [
    {
     "name": "stdout",
     "output_type": "stream",
     "text": [
      "Sudiksa Temaja adalah seorang Guru di SMA Maju.\n"
     ]
    }
   ],
   "source": [
    "nama = 'Sudiksa Temaja'\n",
    "pekerjaan = 'Guru'\n",
    "institusi = 'SMA Maju'\n",
    "print(nama + ' adalah seorang ' + pekerjaan + ' di ' + institusi +'.')"
   ]
  },
  {
   "cell_type": "code",
   "execution_count": 22,
   "id": "3b00834a",
   "metadata": {},
   "outputs": [
    {
     "name": "stdout",
     "output_type": "stream",
     "text": [
      "Sudiksa Temaja adalah seorang Guru di SMA Maju.\n"
     ]
    }
   ],
   "source": [
    "print(f'{nama} adalah seorang {pekerjaan} di {institusi}.') "
   ]
  },
  {
   "cell_type": "code",
   "execution_count": 23,
   "id": "ca6ff044",
   "metadata": {},
   "outputs": [
    {
     "name": "stdout",
     "output_type": "stream",
     "text": [
      "saya I Made Gede Sudiksa Temaja dengan NIM 2108541013 dari prodi Matematika sedang belajar Algoritma dan Struktur Data\n"
     ]
    }
   ],
   "source": [
    "nama = 'I Made Gede Sudiksa Temaja'\n",
    "nim = '2108541013'\n",
    "prodi = 'Matematika'\n",
    "matkul = 'Algoritma dan Struktur Data'\n",
    "print(f'saya {nama} dengan NIM {nim} dari prodi {prodi} sedang belajar {matkul}')"
   ]
  },
  {
   "cell_type": "code",
   "execution_count": null,
   "id": "edf4e695",
   "metadata": {},
   "outputs": [],
   "source": []
  },
  {
   "cell_type": "code",
   "execution_count": 24,
   "id": "191f5702",
   "metadata": {},
   "outputs": [
    {
     "name": "stdout",
     "output_type": "stream",
     "text": [
      "5.5 Strings Index\n"
     ]
    }
   ],
   "source": [
    "print('5.5 Strings Index')"
   ]
  },
  {
   "cell_type": "code",
   "execution_count": 25,
   "id": "556b9a37",
   "metadata": {},
   "outputs": [],
   "source": [
    "kelas = 'ini kelas Matematika'"
   ]
  },
  {
   "cell_type": "code",
   "execution_count": 26,
   "id": "cdec10ef",
   "metadata": {},
   "outputs": [
    {
     "name": "stdout",
     "output_type": "stream",
     "text": [
      "ini\n"
     ]
    }
   ],
   "source": [
    "print(kelas [0:3])"
   ]
  },
  {
   "cell_type": "code",
   "execution_count": 27,
   "id": "0dffbc41",
   "metadata": {},
   "outputs": [
    {
     "name": "stdout",
     "output_type": "stream",
     "text": [
      "ini kelas Matemat\n"
     ]
    }
   ],
   "source": [
    "print(kelas[0:-3])"
   ]
  },
  {
   "cell_type": "code",
   "execution_count": 28,
   "id": "652f82f4",
   "metadata": {},
   "outputs": [
    {
     "name": "stdout",
     "output_type": "stream",
     "text": [
      "elas Matemati\n"
     ]
    }
   ],
   "source": [
    "print(kelas[5:-2])"
   ]
  },
  {
   "cell_type": "code",
   "execution_count": 29,
   "id": "b3798969",
   "metadata": {},
   "outputs": [
    {
     "name": "stdout",
     "output_type": "stream",
     "text": [
      "ilMmk\n"
     ]
    }
   ],
   "source": [
    "print(kelas[2:-1:4])"
   ]
  },
  {
   "cell_type": "code",
   "execution_count": 30,
   "id": "c3c7b042",
   "metadata": {},
   "outputs": [
    {
     "name": "stdout",
     "output_type": "stream",
     "text": [
      "ini kelas Mate\n"
     ]
    }
   ],
   "source": [
    "print(kelas[:-6])"
   ]
  },
  {
   "cell_type": "code",
   "execution_count": 31,
   "id": "16f8aa97",
   "metadata": {},
   "outputs": [],
   "source": [
    "nama = 'Sudiksa Temaja'"
   ]
  },
  {
   "cell_type": "code",
   "execution_count": 32,
   "id": "dac3ba50",
   "metadata": {},
   "outputs": [
    {
     "name": "stdout",
     "output_type": "stream",
     "text": [
      "iksa Temaj\n"
     ]
    }
   ],
   "source": [
    "print(nama[3:-1])"
   ]
  },
  {
   "cell_type": "code",
   "execution_count": 33,
   "id": "dd8fa71a",
   "metadata": {},
   "outputs": [
    {
     "name": "stdout",
     "output_type": "stream",
     "text": [
      " Tema\n"
     ]
    }
   ],
   "source": [
    "print(nama[7:-2])"
   ]
  },
  {
   "cell_type": "code",
   "execution_count": null,
   "id": "04693568",
   "metadata": {},
   "outputs": [],
   "source": []
  },
  {
   "cell_type": "code",
   "execution_count": 34,
   "id": "1b5dedaf",
   "metadata": {},
   "outputs": [
    {
     "name": "stdout",
     "output_type": "stream",
     "text": [
      "5.6 Strings Methods\n"
     ]
    }
   ],
   "source": [
    "print('5.6 Strings Methods')"
   ]
  },
  {
   "cell_type": "code",
   "execution_count": 35,
   "id": "9542342e",
   "metadata": {},
   "outputs": [
    {
     "name": "stdout",
     "output_type": "stream",
     "text": [
      "16\n"
     ]
    }
   ],
   "source": [
    "judul = 'smasta our pride'\n",
    "print(len(judul))"
   ]
  },
  {
   "cell_type": "code",
   "execution_count": 36,
   "id": "2d7387db",
   "metadata": {},
   "outputs": [
    {
     "data": {
      "text/plain": [
       "'SMASTA OUR PRIDE'"
      ]
     },
     "execution_count": 36,
     "metadata": {},
     "output_type": "execute_result"
    }
   ],
   "source": [
    "judul.upper()"
   ]
  },
  {
   "cell_type": "code",
   "execution_count": 37,
   "id": "49a22624",
   "metadata": {},
   "outputs": [
    {
     "data": {
      "text/plain": [
       "'smasta our pride'"
      ]
     },
     "execution_count": 37,
     "metadata": {},
     "output_type": "execute_result"
    }
   ],
   "source": [
    "judul.lower()"
   ]
  },
  {
   "cell_type": "code",
   "execution_count": 38,
   "id": "3c70317c",
   "metadata": {},
   "outputs": [
    {
     "data": {
      "text/plain": [
       "7"
      ]
     },
     "execution_count": 38,
     "metadata": {},
     "output_type": "execute_result"
    }
   ],
   "source": [
    "judul.find('our')"
   ]
  },
  {
   "cell_type": "code",
   "execution_count": 39,
   "id": "41349ad7",
   "metadata": {},
   "outputs": [
    {
     "data": {
      "text/plain": [
       "-1"
      ]
     },
     "execution_count": 39,
     "metadata": {},
     "output_type": "execute_result"
    }
   ],
   "source": [
    "judul.find('Smasta')"
   ]
  },
  {
   "cell_type": "code",
   "execution_count": 40,
   "id": "75f6a217",
   "metadata": {},
   "outputs": [
    {
     "data": {
      "text/plain": [
       "'sma1 our pride'"
      ]
     },
     "execution_count": 40,
     "metadata": {},
     "output_type": "execute_result"
    }
   ],
   "source": [
    "judul.replace('smasta','sma1')"
   ]
  },
  {
   "cell_type": "code",
   "execution_count": 41,
   "id": "bc4fcb30",
   "metadata": {},
   "outputs": [
    {
     "name": "stdout",
     "output_type": "stream",
     "text": [
      "True\n"
     ]
    }
   ],
   "source": [
    "print('smasta' in judul)"
   ]
  },
  {
   "cell_type": "code",
   "execution_count": 42,
   "id": "eafb4780",
   "metadata": {},
   "outputs": [
    {
     "name": "stdout",
     "output_type": "stream",
     "text": [
      "False\n"
     ]
    }
   ],
   "source": [
    "print('Our' in judul)"
   ]
  },
  {
   "cell_type": "code",
   "execution_count": 43,
   "id": "2bca0a83",
   "metadata": {},
   "outputs": [],
   "source": [
    "nim = '2108541013'"
   ]
  },
  {
   "cell_type": "code",
   "execution_count": 44,
   "id": "ac0c440f",
   "metadata": {},
   "outputs": [
    {
     "name": "stdout",
     "output_type": "stream",
     "text": [
      "10\n"
     ]
    }
   ],
   "source": [
    "print(len(nim))"
   ]
  },
  {
   "cell_type": "code",
   "execution_count": 45,
   "id": "75fdbfdb",
   "metadata": {},
   "outputs": [
    {
     "data": {
      "text/plain": [
       "'013'"
      ]
     },
     "execution_count": 45,
     "metadata": {},
     "output_type": "execute_result"
    }
   ],
   "source": [
    "nim.replace('2108541013','013')"
   ]
  },
  {
   "cell_type": "code",
   "execution_count": null,
   "id": "ceabdd76",
   "metadata": {},
   "outputs": [],
   "source": []
  },
  {
   "cell_type": "code",
   "execution_count": 46,
   "id": "34101773",
   "metadata": {},
   "outputs": [
    {
     "name": "stdout",
     "output_type": "stream",
     "text": [
      "5.7 Operasi Matematika di Python\n"
     ]
    }
   ],
   "source": [
    "print('5.7 Operasi Matematika di Python')"
   ]
  },
  {
   "cell_type": "code",
   "execution_count": 47,
   "id": "a2aaaa7b",
   "metadata": {},
   "outputs": [
    {
     "name": "stdout",
     "output_type": "stream",
     "text": [
      "10\n"
     ]
    }
   ],
   "source": [
    "print(4+6)"
   ]
  },
  {
   "cell_type": "code",
   "execution_count": 48,
   "id": "51d55406",
   "metadata": {},
   "outputs": [
    {
     "name": "stdout",
     "output_type": "stream",
     "text": [
      "-22\n"
     ]
    }
   ],
   "source": [
    "print(44-66)"
   ]
  },
  {
   "cell_type": "code",
   "execution_count": 49,
   "id": "e51992d5",
   "metadata": {},
   "outputs": [
    {
     "name": "stdout",
     "output_type": "stream",
     "text": [
      "-6\n"
     ]
    }
   ],
   "source": [
    "print((-2)*3)"
   ]
  },
  {
   "cell_type": "code",
   "execution_count": 50,
   "id": "78485048",
   "metadata": {},
   "outputs": [
    {
     "name": "stdout",
     "output_type": "stream",
     "text": [
      "3.8333333333333335\n"
     ]
    }
   ],
   "source": [
    "print(23/6)"
   ]
  },
  {
   "cell_type": "code",
   "execution_count": 51,
   "id": "cbae16d8",
   "metadata": {},
   "outputs": [
    {
     "name": "stdout",
     "output_type": "stream",
     "text": [
      "5\n"
     ]
    }
   ],
   "source": [
    "print(47//9)"
   ]
  },
  {
   "cell_type": "code",
   "execution_count": 52,
   "id": "8ce8ac7a",
   "metadata": {},
   "outputs": [
    {
     "name": "stdout",
     "output_type": "stream",
     "text": [
      "19\n"
     ]
    }
   ],
   "source": [
    "print(65%23)"
   ]
  },
  {
   "cell_type": "code",
   "execution_count": 53,
   "id": "c2811de5",
   "metadata": {},
   "outputs": [
    {
     "name": "stdout",
     "output_type": "stream",
     "text": [
      "32\n"
     ]
    }
   ],
   "source": [
    "print(2**5)"
   ]
  },
  {
   "cell_type": "code",
   "execution_count": 54,
   "id": "dd1399f5",
   "metadata": {},
   "outputs": [
    {
     "name": "stdout",
     "output_type": "stream",
     "text": [
      "15\n"
     ]
    }
   ],
   "source": [
    "x=3\n",
    "x+=12\n",
    "print(x)"
   ]
  },
  {
   "cell_type": "code",
   "execution_count": 55,
   "id": "77f997c9",
   "metadata": {},
   "outputs": [
    {
     "name": "stdout",
     "output_type": "stream",
     "text": [
      "13\n"
     ]
    }
   ],
   "source": [
    "x-=2\n",
    "print(x)"
   ]
  },
  {
   "cell_type": "code",
   "execution_count": 56,
   "id": "32d7c357",
   "metadata": {},
   "outputs": [
    {
     "name": "stdout",
     "output_type": "stream",
     "text": [
      "39\n"
     ]
    }
   ],
   "source": [
    "x*=3\n",
    "print(x)"
   ]
  },
  {
   "cell_type": "code",
   "execution_count": 57,
   "id": "ee8ee4e7",
   "metadata": {},
   "outputs": [
    {
     "name": "stdout",
     "output_type": "stream",
     "text": [
      "19.5\n"
     ]
    }
   ],
   "source": [
    "x/=2\n",
    "print(x)"
   ]
  },
  {
   "cell_type": "code",
   "execution_count": null,
   "id": "acfc188b",
   "metadata": {},
   "outputs": [],
   "source": []
  },
  {
   "cell_type": "code",
   "execution_count": 58,
   "id": "715af888",
   "metadata": {},
   "outputs": [
    {
     "name": "stdout",
     "output_type": "stream",
     "text": [
      "5.8 Operator Perbandingan di Python\n"
     ]
    }
   ],
   "source": [
    "print('5.8 Operator Perbandingan di Python')"
   ]
  },
  {
   "cell_type": "code",
   "execution_count": 59,
   "id": "f8dd37e3",
   "metadata": {},
   "outputs": [
    {
     "name": "stdout",
     "output_type": "stream",
     "text": [
      "True\n"
     ]
    }
   ],
   "source": [
    "x = 13>2\n",
    "print(x)"
   ]
  },
  {
   "cell_type": "code",
   "execution_count": 60,
   "id": "bed3a30f",
   "metadata": {},
   "outputs": [
    {
     "name": "stdout",
     "output_type": "stream",
     "text": [
      "False\n"
     ]
    }
   ],
   "source": [
    "x = 27<13\n",
    "print(x)"
   ]
  },
  {
   "cell_type": "code",
   "execution_count": 61,
   "id": "2c872bc2",
   "metadata": {},
   "outputs": [
    {
     "name": "stdout",
     "output_type": "stream",
     "text": [
      "True\n"
     ]
    }
   ],
   "source": [
    "x = 13>=2\n",
    "print(x)"
   ]
  },
  {
   "cell_type": "code",
   "execution_count": 62,
   "id": "0fd71dfc",
   "metadata": {},
   "outputs": [
    {
     "name": "stdout",
     "output_type": "stream",
     "text": [
      "True\n"
     ]
    }
   ],
   "source": [
    "x = 2<=31\n",
    "print(x)"
   ]
  },
  {
   "cell_type": "code",
   "execution_count": 63,
   "id": "f1d2c21c",
   "metadata": {},
   "outputs": [
    {
     "name": "stdout",
     "output_type": "stream",
     "text": [
      "True\n"
     ]
    }
   ],
   "source": [
    "x = 3==3\n",
    "print(x)"
   ]
  },
  {
   "cell_type": "code",
   "execution_count": 64,
   "id": "f5cea81d",
   "metadata": {},
   "outputs": [
    {
     "name": "stdout",
     "output_type": "stream",
     "text": [
      "True\n"
     ]
    }
   ],
   "source": [
    "x = 13!=4\n",
    "print(x)"
   ]
  },
  {
   "cell_type": "code",
   "execution_count": 65,
   "id": "0173692b",
   "metadata": {},
   "outputs": [
    {
     "name": "stdout",
     "output_type": "stream",
     "text": [
      "False\n"
     ]
    }
   ],
   "source": [
    "x = 2>31\n",
    "print(x)"
   ]
  },
  {
   "cell_type": "code",
   "execution_count": 66,
   "id": "2e5ae5d3",
   "metadata": {},
   "outputs": [
    {
     "name": "stdout",
     "output_type": "stream",
     "text": [
      "False\n"
     ]
    }
   ],
   "source": [
    "b = 32!=32\n",
    "print(b)"
   ]
  },
  {
   "cell_type": "code",
   "execution_count": null,
   "id": "81c00aed",
   "metadata": {},
   "outputs": [],
   "source": []
  },
  {
   "cell_type": "code",
   "execution_count": 67,
   "id": "af9c4ba6",
   "metadata": {},
   "outputs": [
    {
     "name": "stdout",
     "output_type": "stream",
     "text": [
      "5.9 Operator Logika di Python\n"
     ]
    }
   ],
   "source": [
    "print('5.9 Operator Logika di Python')"
   ]
  },
  {
   "cell_type": "code",
   "execution_count": 68,
   "id": "f1ee8026",
   "metadata": {},
   "outputs": [
    {
     "name": "stdout",
     "output_type": "stream",
     "text": [
      "True\n"
     ]
    }
   ],
   "source": [
    "manggis = 10\n",
    "mangga =15\n",
    "print(manggis > 8 and mangga < 17)"
   ]
  },
  {
   "cell_type": "code",
   "execution_count": 69,
   "id": "60d572f7",
   "metadata": {},
   "outputs": [
    {
     "name": "stdout",
     "output_type": "stream",
     "text": [
      "False\n"
     ]
    }
   ],
   "source": [
    "print(manggis < 8 or mangga > 20)"
   ]
  },
  {
   "cell_type": "code",
   "execution_count": 70,
   "id": "38e7e3fe",
   "metadata": {},
   "outputs": [
    {
     "name": "stdout",
     "output_type": "stream",
     "text": [
      "True\n"
     ]
    }
   ],
   "source": [
    "tinggi_kakak = 182\n",
    "tinggi_adik = 173\n",
    "print(tinggi_kakak > 172 or tinggi_adik > 163)"
   ]
  },
  {
   "cell_type": "code",
   "execution_count": 71,
   "id": "09480c07",
   "metadata": {},
   "outputs": [
    {
     "name": "stdout",
     "output_type": "stream",
     "text": [
      "False\n"
     ]
    }
   ],
   "source": [
    "tinggi_kakak = 182\n",
    "tinggi_adik = 173\n",
    "print(tinggi_kakak < 172 or tinggi_adik < 163)"
   ]
  },
  {
   "cell_type": "code",
   "execution_count": null,
   "id": "837da1d3",
   "metadata": {},
   "outputs": [],
   "source": []
  },
  {
   "cell_type": "code",
   "execution_count": 72,
   "id": "8171ff1a",
   "metadata": {},
   "outputs": [
    {
     "name": "stdout",
     "output_type": "stream",
     "text": [
      "5.10 Operator if di Python\n"
     ]
    }
   ],
   "source": [
    "print('5.10 Operator if di Python')"
   ]
  },
  {
   "cell_type": "code",
   "execution_count": 73,
   "id": "2f272d1a",
   "metadata": {},
   "outputs": [
    {
     "name": "stdout",
     "output_type": "stream",
     "text": [
      "Nilai anda adalah 71\n",
      "Anda mendapatkan nilai B\n",
      "Tingkatkan prestasimu!\n"
     ]
    }
   ],
   "source": [
    "nilai = float(input(\"Nilai anda adalah \"))\n",
    "if nilai >= 80:\n",
    "    print(\"Anda mendapatkan nilai A\")\n",
    "    print(\"Bagus sekali selamat\")\n",
    "if nilai < 80 and nilai >= 70:\n",
    "    print(\"Anda mendapatkan nilai B\")\n",
    "    print(\"Tingkatkan prestasimu!\")\n",
    "if nilai >= 60 and nilai < 70:\n",
    "    print(\"Anda mendapatkan nilai C\")\n",
    "    print(\"Lain kali harus lebih baik\")\n",
    "if nilai >= 50 and nilai < 60:\n",
    "    print(\"Anda mendapatkan nilai D\")\n",
    "    print(\"Anda harus mengulang lagi tahun depan\")"
   ]
  },
  {
   "cell_type": "code",
   "execution_count": 74,
   "id": "d6cebfa6",
   "metadata": {},
   "outputs": [
    {
     "name": "stdout",
     "output_type": "stream",
     "text": [
      "Nilai anda adalah 46\n",
      "Anda mendapatkan nilai D\n",
      "Sayang sekali anda harus mengulang lagi minggu depan\n"
     ]
    }
   ],
   "source": [
    "nilai = float(input(\"Nilai anda adalah \"))\n",
    "if nilai >= 80:\n",
    "    print(\"Anda mendapatkan nilai A\")\n",
    "    print(\"Bagus sekali, pertahankan nilaimu\")\n",
    "elif nilai >= 70:\n",
    "    print(\"Anda mendapatkan nilai B\")\n",
    "    print(\"Sedikit lagi nilaimu A\")\n",
    "elif nilai >=60:\n",
    "    print(\"Anda mendapatkan nilai C\")\n",
    "    Print(\"Lain kali harus lebih giat belajar\")\n",
    "elif nilai <60:\n",
    "    print(\"Anda mendapatkan nilai D\")\n",
    "    print(\"Sayang sekali anda harus mengulang lagi minggu depan\")"
   ]
  },
  {
   "cell_type": "code",
   "execution_count": 76,
   "id": "a960e1bc",
   "metadata": {},
   "outputs": [
    {
     "name": "stdout",
     "output_type": "stream",
     "text": [
      "berapakah tinggi kamu? 184\n",
      "tingginya dalam cm atau inci? cm\n",
      "tinggi kamu adalah 72.440984 inci\n"
     ]
    }
   ],
   "source": [
    "tinggi = float(input('berapakah tinggi kamu? '))\n",
    "cm_atau_inci = input('tingginya dalam cm atau inci? ')\n",
    "\n",
    "if cm_atau_inci.upper() == 'CM':\n",
    "    tinggi = tinggi*0.393701\n",
    "    print('tinggi kamu adalah ' + str(tinggi) + ' inci')\n",
    "elif cm_atau_inci.upper() == 'INCI':\n",
    "    tinggi = tinggi/0.393701\n",
    "    print(f'tinggi kamu adalah {tinggi} cm')"
   ]
  },
  {
   "cell_type": "code",
   "execution_count": null,
   "id": "c1e87574",
   "metadata": {},
   "outputs": [],
   "source": []
  },
  {
   "cell_type": "code",
   "execution_count": 77,
   "id": "716c5fb6",
   "metadata": {},
   "outputs": [
    {
     "name": "stdout",
     "output_type": "stream",
     "text": [
      "5.11 While loop\n"
     ]
    }
   ],
   "source": [
    "print('5.11 While loop')"
   ]
  },
  {
   "cell_type": "code",
   "execution_count": 78,
   "id": "508f67a0",
   "metadata": {},
   "outputs": [
    {
     "name": "stdout",
     "output_type": "stream",
     "text": [
      "angka 1 masih dibawah 7\n",
      "angka 3 masih dibawah 7\n",
      "angka 5 masih dibawah 7\n"
     ]
    }
   ],
   "source": [
    "a = 1\n",
    "while a < 7:\n",
    "    print('angka ' + str(a) + ' masih dibawah 7')\n",
    "    a +=2"
   ]
  },
  {
   "cell_type": "code",
   "execution_count": 79,
   "id": "391de300",
   "metadata": {},
   "outputs": [
    {
     "name": "stdout",
     "output_type": "stream",
     "text": [
      "*\n",
      "**\n",
      "***\n",
      "****\n",
      "*****\n"
     ]
    }
   ],
   "source": [
    "a = 1\n",
    "while a < 6:\n",
    "    print(a * '*')\n",
    "    a +=1"
   ]
  },
  {
   "cell_type": "code",
   "execution_count": 80,
   "id": "0ee4178f",
   "metadata": {},
   "outputs": [
    {
     "name": "stdout",
     "output_type": "stream",
     "text": [
      ":) :) :) :) :) \n",
      ":) :) :) :) \n",
      ":) :) :) \n",
      ":) :) \n",
      ":) \n"
     ]
    }
   ],
   "source": [
    "a = 5\n",
    "while a > 0:\n",
    "    print(a * ':) ')\n",
    "    a -=1"
   ]
  }
 ],
 "metadata": {
  "kernelspec": {
   "display_name": "Python 3 (ipykernel)",
   "language": "python",
   "name": "python3"
  },
  "language_info": {
   "codemirror_mode": {
    "name": "ipython",
    "version": 3
   },
   "file_extension": ".py",
   "mimetype": "text/x-python",
   "name": "python",
   "nbconvert_exporter": "python",
   "pygments_lexer": "ipython3",
   "version": "3.9.7"
  }
 },
 "nbformat": 4,
 "nbformat_minor": 5
}
