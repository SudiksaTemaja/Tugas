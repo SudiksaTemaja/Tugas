{
 "cells": [
  {
   "cell_type": "markdown",
   "id": "bf5917cc",
   "metadata": {},
   "source": [
    "# 5.12 List di Python"
   ]
  },
  {
   "cell_type": "code",
   "execution_count": 3,
   "id": "36486576",
   "metadata": {},
   "outputs": [
    {
     "name": "stdout",
     "output_type": "stream",
     "text": [
      "['mangga', 'pisang', 'rambutan', 'durian']\n"
     ]
    }
   ],
   "source": [
    "buah = ['mangga', 'pisang', 'rambutan', 'durian']\n",
    "print(buah)"
   ]
  },
  {
   "cell_type": "code",
   "execution_count": 4,
   "id": "146f5a4e",
   "metadata": {},
   "outputs": [
    {
     "name": "stdout",
     "output_type": "stream",
     "text": [
      "mangga\n"
     ]
    }
   ],
   "source": [
    "print(buah[0])"
   ]
  },
  {
   "cell_type": "code",
   "execution_count": 5,
   "id": "9ab50dc2",
   "metadata": {},
   "outputs": [
    {
     "name": "stdout",
     "output_type": "stream",
     "text": [
      "durian\n"
     ]
    }
   ],
   "source": [
    "print(buah[-1])"
   ]
  },
  {
   "cell_type": "code",
   "execution_count": 6,
   "id": "0dfca490",
   "metadata": {},
   "outputs": [
    {
     "name": "stdout",
     "output_type": "stream",
     "text": [
      "['salak', 'pisang', 'rambutan', 'durian']\n"
     ]
    }
   ],
   "source": [
    "buah[0] = 'salak'\n",
    "print(buah)"
   ]
  },
  {
   "cell_type": "code",
   "execution_count": 7,
   "id": "b7440903",
   "metadata": {},
   "outputs": [
    {
     "name": "stdout",
     "output_type": "stream",
     "text": [
      "['salak', 'pisang', 'rambutan']\n"
     ]
    }
   ],
   "source": [
    "print(buah[0:3])"
   ]
  },
  {
   "cell_type": "code",
   "execution_count": 8,
   "id": "3984cc1c",
   "metadata": {},
   "outputs": [
    {
     "name": "stdout",
     "output_type": "stream",
     "text": [
      "['buku', 'pulpen', 'pensil', 'stipo']\n"
     ]
    }
   ],
   "source": [
    "atk = ['buku', 'pulpen', 'pensil', 'stipo']\n",
    "print(atk)"
   ]
  },
  {
   "cell_type": "code",
   "execution_count": 9,
   "id": "7df2a58e",
   "metadata": {},
   "outputs": [
    {
     "name": "stdout",
     "output_type": "stream",
     "text": [
      "pulpen\n"
     ]
    }
   ],
   "source": [
    "print(atk[-3])"
   ]
  },
  {
   "cell_type": "code",
   "execution_count": 10,
   "id": "25c53e4b",
   "metadata": {},
   "outputs": [
    {
     "name": "stdout",
     "output_type": "stream",
     "text": [
      "['buku', 'pulpen', 'penghapus', 'stipo']\n"
     ]
    }
   ],
   "source": [
    "atk[2] = 'penghapus'\n",
    "print(atk)"
   ]
  },
  {
   "cell_type": "code",
   "execution_count": null,
   "id": "0626ec51",
   "metadata": {},
   "outputs": [],
   "source": []
  },
  {
   "cell_type": "markdown",
   "id": "fbe8449d",
   "metadata": {},
   "source": [
    "# 5.13 Metoda List"
   ]
  },
  {
   "cell_type": "code",
   "execution_count": 1,
   "id": "406b3b60",
   "metadata": {},
   "outputs": [
    {
     "name": "stdout",
     "output_type": "stream",
     "text": [
      "['Made', 'Eka', 'Dwi', 'Sari']\n"
     ]
    }
   ],
   "source": [
    "nama = ['Made', 'Eka', 'Dwi']\n",
    "nama.append('Sari')\n",
    "print(nama)"
   ]
  },
  {
   "cell_type": "code",
   "execution_count": 2,
   "id": "630aeacf",
   "metadata": {},
   "outputs": [
    {
     "name": "stdout",
     "output_type": "stream",
     "text": [
      "['Dewi', 'Made', 'Eka', 'Dwi', 'Sari']\n"
     ]
    }
   ],
   "source": [
    "nama.insert(0,'Dewi')\n",
    "print(nama)"
   ]
  },
  {
   "cell_type": "code",
   "execution_count": 3,
   "id": "bb234e4d",
   "metadata": {},
   "outputs": [
    {
     "name": "stdout",
     "output_type": "stream",
     "text": [
      "['Dewi', 'Made', 'Dwi', 'Sari']\n"
     ]
    }
   ],
   "source": [
    "nama.remove('Eka')\n",
    "print(nama)"
   ]
  },
  {
   "cell_type": "code",
   "execution_count": 4,
   "id": "e8b02585",
   "metadata": {},
   "outputs": [
    {
     "name": "stdout",
     "output_type": "stream",
     "text": [
      "False\n"
     ]
    }
   ],
   "source": [
    "print('Sudiksa' in nama)"
   ]
  },
  {
   "cell_type": "code",
   "execution_count": 5,
   "id": "4e56cd8f",
   "metadata": {},
   "outputs": [
    {
     "name": "stdout",
     "output_type": "stream",
     "text": [
      "True\n"
     ]
    }
   ],
   "source": [
    "print('Made' in nama)"
   ]
  },
  {
   "cell_type": "code",
   "execution_count": 6,
   "id": "8774e60a",
   "metadata": {},
   "outputs": [
    {
     "name": "stdout",
     "output_type": "stream",
     "text": [
      "4\n"
     ]
    }
   ],
   "source": [
    "print(len(nama))"
   ]
  },
  {
   "cell_type": "code",
   "execution_count": 7,
   "id": "157ea2e2",
   "metadata": {},
   "outputs": [
    {
     "name": "stdout",
     "output_type": "stream",
     "text": [
      "['desu', 'dede', 'sudiksa']\n"
     ]
    }
   ],
   "source": [
    "aku = ['desu','dede','sudiksa']\n",
    "print(aku)\n"
   ]
  },
  {
   "cell_type": "code",
   "execution_count": 8,
   "id": "bfd5829b",
   "metadata": {},
   "outputs": [
    {
     "name": "stdout",
     "output_type": "stream",
     "text": [
      "['desu', 'dede', 'sudiksa', 'temaja']\n"
     ]
    }
   ],
   "source": [
    "aku.append ('temaja')\n",
    "print(aku)"
   ]
  },
  {
   "cell_type": "code",
   "execution_count": 10,
   "id": "f2f10b99",
   "metadata": {},
   "outputs": [
    {
     "name": "stdout",
     "output_type": "stream",
     "text": [
      "['desu', 'dede', 'sudiksa', 'bay', 'temaja']\n"
     ]
    }
   ],
   "source": [
    "aku.insert(-1,'bay')\n",
    "print(aku)"
   ]
  },
  {
   "cell_type": "code",
   "execution_count": 11,
   "id": "ffeebea1",
   "metadata": {},
   "outputs": [
    {
     "name": "stdout",
     "output_type": "stream",
     "text": [
      "['dede', 'sudiksa', 'bay', 'temaja']\n"
     ]
    }
   ],
   "source": [
    "aku.remove('desu')\n",
    "print(aku)"
   ]
  },
  {
   "cell_type": "code",
   "execution_count": 12,
   "id": "3a8799a4",
   "metadata": {},
   "outputs": [
    {
     "name": "stdout",
     "output_type": "stream",
     "text": [
      "4\n"
     ]
    }
   ],
   "source": [
    "print(len(aku))"
   ]
  },
  {
   "cell_type": "code",
   "execution_count": 13,
   "id": "a5d7abb5",
   "metadata": {},
   "outputs": [
    {
     "name": "stdout",
     "output_type": "stream",
     "text": [
      "True\n"
     ]
    }
   ],
   "source": [
    "print('sudiksa' in aku)"
   ]
  },
  {
   "cell_type": "code",
   "execution_count": null,
   "id": "c75b466a",
   "metadata": {},
   "outputs": [],
   "source": []
  },
  {
   "cell_type": "markdown",
   "id": "a3dde8b5",
   "metadata": {},
   "source": [
    "# 5.14 For loop\n"
   ]
  },
  {
   "cell_type": "code",
   "execution_count": 14,
   "id": "2ea79865",
   "metadata": {},
   "outputs": [
    {
     "name": "stdout",
     "output_type": "stream",
     "text": [
      "manggis\n",
      "durian\n",
      "salak\n",
      "jeruk\n"
     ]
    }
   ],
   "source": [
    "buah = ['manggis', 'durian', 'salak', 'jeruk']\n",
    "for jenis in buah:\n",
    "    print(jenis)"
   ]
  },
  {
   "cell_type": "code",
   "execution_count": 15,
   "id": "36a513aa",
   "metadata": {},
   "outputs": [
    {
     "name": "stdout",
     "output_type": "stream",
     "text": [
      "manggis\n",
      "durian\n",
      "salak\n",
      "jeruk\n"
     ]
    }
   ],
   "source": [
    "i = 0\n",
    "while i < len(buah):\n",
    "    print(buah[i])\n",
    "    i+=1"
   ]
  },
  {
   "cell_type": "code",
   "execution_count": 16,
   "id": "98e54c03",
   "metadata": {},
   "outputs": [
    {
     "name": "stdout",
     "output_type": "stream",
     "text": [
      "desu\n",
      "dede\n",
      "sudiksa\n",
      "temaja\n"
     ]
    }
   ],
   "source": [
    "aku = ['desu','dede','sudiksa', 'temaja']\n",
    "for nama in aku:\n",
    "    print(nama)"
   ]
  },
  {
   "cell_type": "code",
   "execution_count": 21,
   "id": "b15821da",
   "metadata": {},
   "outputs": [
    {
     "name": "stdout",
     "output_type": "stream",
     "text": [
      "desu\n",
      "dede\n",
      "sudiksa\n",
      "temaja\n"
     ]
    }
   ],
   "source": [
    "x = 0\n",
    "while x < len(aku):\n",
    "    print(aku[x])\n",
    "    x+=1"
   ]
  },
  {
   "cell_type": "code",
   "execution_count": null,
   "id": "443ed841",
   "metadata": {},
   "outputs": [],
   "source": []
  },
  {
   "cell_type": "markdown",
   "id": "627cbc42",
   "metadata": {},
   "source": [
    "# 5.15 Fungsi range"
   ]
  },
  {
   "cell_type": "code",
   "execution_count": 1,
   "id": "e3306402",
   "metadata": {},
   "outputs": [
    {
     "name": "stdout",
     "output_type": "stream",
     "text": [
      "range(0, 6)\n"
     ]
    }
   ],
   "source": [
    "angka = range (6)\n",
    "print (angka)"
   ]
  },
  {
   "cell_type": "code",
   "execution_count": 2,
   "id": "e82fb38c",
   "metadata": {},
   "outputs": [
    {
     "name": "stdout",
     "output_type": "stream",
     "text": [
      "0\n",
      "1\n",
      "2\n",
      "3\n",
      "4\n",
      "5\n"
     ]
    }
   ],
   "source": [
    "for isi in angka:\n",
    "    print(isi)"
   ]
  },
  {
   "cell_type": "code",
   "execution_count": 3,
   "id": "c9c58199",
   "metadata": {},
   "outputs": [
    {
     "name": "stdout",
     "output_type": "stream",
     "text": [
      "5\n",
      "6\n",
      "7\n",
      "8\n",
      "9\n"
     ]
    }
   ],
   "source": [
    "for isi in range(5,10):\n",
    "    print(isi)"
   ]
  },
  {
   "cell_type": "code",
   "execution_count": 4,
   "id": "631af48f",
   "metadata": {},
   "outputs": [
    {
     "name": "stdout",
     "output_type": "stream",
     "text": [
      "0\n",
      "2\n",
      "4\n",
      "6\n",
      "8\n"
     ]
    }
   ],
   "source": [
    "for isi in range(0,10,2):\n",
    "    print(isi)"
   ]
  },
  {
   "cell_type": "code",
   "execution_count": 5,
   "id": "08892401",
   "metadata": {},
   "outputs": [
    {
     "name": "stdout",
     "output_type": "stream",
     "text": [
      "5\n"
     ]
    }
   ],
   "source": [
    "data = [1,2,3,4,5,4,3,2,1]\n",
    "terbesar = data[0]\n",
    "for i in range(len(data)):\n",
    "    if data[i] > terbesar:\n",
    "        terbesar = data[i]\n",
    "print(terbesar)"
   ]
  },
  {
   "cell_type": "code",
   "execution_count": 6,
   "id": "dc93bc4f",
   "metadata": {},
   "outputs": [
    {
     "name": "stdout",
     "output_type": "stream",
     "text": [
      "5\n"
     ]
    }
   ],
   "source": [
    "data = [1,2,3,4,5,4,3,2,1]\n",
    "terbesar = data[0]\n",
    "for angka in data:\n",
    "    if angka > terbesar:\n",
    "        terbesar = angka\n",
    "print(terbesar)"
   ]
  },
  {
   "cell_type": "code",
   "execution_count": 7,
   "id": "a26b8161",
   "metadata": {},
   "outputs": [
    {
     "name": "stdout",
     "output_type": "stream",
     "text": [
      "[1, 2, 3, 4, 5, 6, 7, 8]\n"
     ]
    }
   ],
   "source": [
    "angka = [1,2,3,4,5,6,3,4,5,7,8,7]\n",
    "angka_unik = []\n",
    "for anggota in angka:\n",
    "    if anggota not in angka_unik:\n",
    "        angka_unik.append(anggota)\n",
    "print(angka_unik)"
   ]
  },
  {
   "cell_type": "code",
   "execution_count": 8,
   "id": "2270ef2b",
   "metadata": {},
   "outputs": [
    {
     "name": "stdout",
     "output_type": "stream",
     "text": [
      "[-1, 2, -3, 4, -5, 6, 10, -11, 7, -8, -7]\n"
     ]
    }
   ],
   "source": [
    "angka = [-1,2,-3,4,-5,6,10,-11,-3,4,-5,7,-8,-7]\n",
    "angka_unik = []\n",
    "for anggota in angka:\n",
    "    if anggota not in angka_unik:\n",
    "        angka_unik.append(anggota)\n",
    "print(angka_unik)"
   ]
  },
  {
   "cell_type": "code",
   "execution_count": 9,
   "id": "23b4aa85",
   "metadata": {},
   "outputs": [
    {
     "name": "stdout",
     "output_type": "stream",
     "text": [
      "4\n"
     ]
    }
   ],
   "source": [
    "data = [-1,2,-3,4,-5,-4,3,-2,1]\n",
    "terbesar = data[0]\n",
    "for angka in data:\n",
    "    if angka > terbesar:\n",
    "        terbesar = angka\n",
    "print(terbesar)"
   ]
  },
  {
   "cell_type": "code",
   "execution_count": null,
   "id": "fe1ebfab",
   "metadata": {},
   "outputs": [],
   "source": []
  },
  {
   "cell_type": "markdown",
   "id": "74647fc1",
   "metadata": {},
   "source": [
    "# 5.16 List 2 Dimensi"
   ]
  },
  {
   "cell_type": "code",
   "execution_count": 10,
   "id": "bb3117d0",
   "metadata": {},
   "outputs": [
    {
     "name": "stdout",
     "output_type": "stream",
     "text": [
      "[[1, 2, 3, 4], [5, 6, 7, 8], [9, 10, 11, 12], [13, 14, 15, 16]]\n"
     ]
    }
   ],
   "source": [
    "matrik = [\n",
    "    [1,2,3,4],\n",
    "    [5,6,7,8],\n",
    "    [9,10,11,12],\n",
    "    [13,14,15,16],\n",
    "]\n",
    "print(matrik)"
   ]
  },
  {
   "cell_type": "code",
   "execution_count": 11,
   "id": "c50c3622",
   "metadata": {},
   "outputs": [
    {
     "data": {
      "text/plain": [
       "[5, 6, 7, 8]"
      ]
     },
     "execution_count": 11,
     "metadata": {},
     "output_type": "execute_result"
    }
   ],
   "source": [
    "matrik[1]"
   ]
  },
  {
   "cell_type": "code",
   "execution_count": 12,
   "id": "1093f8c7",
   "metadata": {},
   "outputs": [
    {
     "data": {
      "text/plain": [
       "7"
      ]
     },
     "execution_count": 12,
     "metadata": {},
     "output_type": "execute_result"
    }
   ],
   "source": [
    "matrik[1][2]"
   ]
  },
  {
   "cell_type": "code",
   "execution_count": 13,
   "id": "96711b40",
   "metadata": {},
   "outputs": [
    {
     "name": "stdout",
     "output_type": "stream",
     "text": [
      "100\n"
     ]
    }
   ],
   "source": [
    "matrik[1][2] = 100\n",
    "print(matrik[1][2])"
   ]
  },
  {
   "cell_type": "code",
   "execution_count": 14,
   "id": "9f3ee513",
   "metadata": {},
   "outputs": [
    {
     "data": {
      "text/plain": [
       "[[1, 2, 3, 4], [5, 6, 100, 8], [9, 10, 11, 12], [13, 14, 15, 16]]"
      ]
     },
     "execution_count": 14,
     "metadata": {},
     "output_type": "execute_result"
    }
   ],
   "source": [
    "matrik"
   ]
  },
  {
   "cell_type": "code",
   "execution_count": 15,
   "id": "ec844db6",
   "metadata": {},
   "outputs": [
    {
     "name": "stdout",
     "output_type": "stream",
     "text": [
      "[1, 2, 3, 4]\n",
      "1\n",
      "2\n",
      "3\n",
      "4\n",
      "[5, 6, 100, 8]\n",
      "5\n",
      "6\n",
      "100\n",
      "8\n",
      "[9, 10, 11, 12]\n",
      "9\n",
      "10\n",
      "11\n",
      "12\n",
      "[13, 14, 15, 16]\n",
      "13\n",
      "14\n",
      "15\n",
      "16\n"
     ]
    }
   ],
   "source": [
    "for baris in matrik:\n",
    "    print(baris)\n",
    "    for kolom in baris:\n",
    "        print(kolom)"
   ]
  },
  {
   "cell_type": "code",
   "execution_count": 18,
   "id": "7d3cb0b7",
   "metadata": {},
   "outputs": [
    {
     "name": "stdout",
     "output_type": "stream",
     "text": [
      "[1, 2, 3, 4]\n",
      "[5, 6, 100, 8]\n",
      "[9, 10, 11, 12]\n",
      "[13, 14, 15, 16]\n"
     ]
    }
   ],
   "source": [
    "for baris in matrik:\n",
    "    print(baris)"
   ]
  },
  {
   "cell_type": "code",
   "execution_count": 17,
   "id": "8c92558d",
   "metadata": {},
   "outputs": [
    {
     "data": {
      "text/plain": [
       "[[1, 2, 3, 4], [5, 6, 100, 8], [9, 10, 11, 12], [13, 14, 15, 16]]"
      ]
     },
     "execution_count": 17,
     "metadata": {},
     "output_type": "execute_result"
    }
   ],
   "source": [
    "matrik"
   ]
  },
  {
   "cell_type": "code",
   "execution_count": 19,
   "id": "b7753136",
   "metadata": {},
   "outputs": [
    {
     "name": "stdout",
     "output_type": "stream",
     "text": [
      "[1, 2, 3, 4]\n",
      "[5, 6, 100, 8]\n",
      "[9, 10, 11, 12]\n",
      "[13, 14, 15, 16]\n"
     ]
    }
   ],
   "source": [
    "for kolom in matrik:\n",
    "    print(kolom)"
   ]
  },
  {
   "cell_type": "code",
   "execution_count": 20,
   "id": "05f50bea",
   "metadata": {},
   "outputs": [
    {
     "name": "stdout",
     "output_type": "stream",
     "text": [
      "13\n",
      "14\n",
      "15\n",
      "16\n"
     ]
    }
   ],
   "source": [
    "for kolom in baris:\n",
    "    print(kolom)"
   ]
  },
  {
   "cell_type": "code",
   "execution_count": null,
   "id": "b8836435",
   "metadata": {},
   "outputs": [],
   "source": []
  },
  {
   "cell_type": "markdown",
   "id": "3cd16b32",
   "metadata": {},
   "source": [
    "# 5.17 Tuples"
   ]
  },
  {
   "cell_type": "code",
   "execution_count": 21,
   "id": "2761571f",
   "metadata": {},
   "outputs": [
    {
     "name": "stdout",
     "output_type": "stream",
     "text": [
      "0\n"
     ]
    }
   ],
   "source": [
    "angka = (0,1,1,3,4,5)\n",
    "print(angka[0])"
   ]
  },
  {
   "cell_type": "code",
   "execution_count": 22,
   "id": "b58e522e",
   "metadata": {},
   "outputs": [
    {
     "name": "stdout",
     "output_type": "stream",
     "text": [
      "(0, 1, 1)\n"
     ]
    }
   ],
   "source": [
    "print(angka[0:3])"
   ]
  },
  {
   "cell_type": "code",
   "execution_count": 23,
   "id": "da99014e",
   "metadata": {},
   "outputs": [
    {
     "name": "stdout",
     "output_type": "stream",
     "text": [
      "0\n",
      "1\n",
      "1\n"
     ]
    }
   ],
   "source": [
    "for isi in angka[0:3]:\n",
    "    print(isi)"
   ]
  },
  {
   "cell_type": "code",
   "execution_count": 24,
   "id": "441a87b3",
   "metadata": {},
   "outputs": [
    {
     "ename": "TypeError",
     "evalue": "'tuple' object does not support item assignment",
     "output_type": "error",
     "traceback": [
      "\u001b[1;31m---------------------------------------------------------------------------\u001b[0m",
      "\u001b[1;31mTypeError\u001b[0m                                 Traceback (most recent call last)",
      "\u001b[1;32m~\\AppData\\Local\\Temp/ipykernel_6132/1527096288.py\u001b[0m in \u001b[0;36m<module>\u001b[1;34m\u001b[0m\n\u001b[1;32m----> 1\u001b[1;33m \u001b[0mangka\u001b[0m\u001b[1;33m[\u001b[0m\u001b[1;36m0\u001b[0m\u001b[1;33m]\u001b[0m \u001b[1;33m=\u001b[0m \u001b[1;36m10\u001b[0m\u001b[1;33m\u001b[0m\u001b[1;33m\u001b[0m\u001b[0m\n\u001b[0m\u001b[0;32m      2\u001b[0m \u001b[0mprint\u001b[0m\u001b[1;33m(\u001b[0m\u001b[0mangka\u001b[0m\u001b[1;33m)\u001b[0m\u001b[1;33m\u001b[0m\u001b[1;33m\u001b[0m\u001b[0m\n",
      "\u001b[1;31mTypeError\u001b[0m: 'tuple' object does not support item assignment"
     ]
    }
   ],
   "source": [
    "angka[0] = 10\n",
    "print(angka)\n",
    "#tuple data tidak bisa diganti seperti list"
   ]
  },
  {
   "cell_type": "code",
   "execution_count": 26,
   "id": "46cd5e71",
   "metadata": {},
   "outputs": [
    {
     "name": "stdout",
     "output_type": "stream",
     "text": [
      "(1, 5, 0, 3, 2, 0, 0, 3)\n"
     ]
    }
   ],
   "source": [
    "ultah = (1,5,0,3,2,0,0,3)\n",
    "print(ultah)"
   ]
  },
  {
   "cell_type": "code",
   "execution_count": 27,
   "id": "5840f7af",
   "metadata": {},
   "outputs": [
    {
     "name": "stdout",
     "output_type": "stream",
     "text": [
      "(1, 5)\n"
     ]
    }
   ],
   "source": [
    "print(ultah[0:2])"
   ]
  },
  {
   "cell_type": "code",
   "execution_count": 28,
   "id": "5fbabdbb",
   "metadata": {},
   "outputs": [
    {
     "name": "stdout",
     "output_type": "stream",
     "text": [
      "1\n",
      "5\n"
     ]
    }
   ],
   "source": [
    "for desu in ultah[0:2]:\n",
    "    print(desu)"
   ]
  },
  {
   "cell_type": "code",
   "execution_count": 30,
   "id": "fc505955",
   "metadata": {},
   "outputs": [
    {
     "data": {
      "text/plain": [
       "3"
      ]
     },
     "execution_count": 30,
     "metadata": {},
     "output_type": "execute_result"
    }
   ],
   "source": [
    "ultah.count(0)"
   ]
  },
  {
   "cell_type": "code",
   "execution_count": 31,
   "id": "cec8b996",
   "metadata": {},
   "outputs": [
    {
     "data": {
      "text/plain": [
       "3"
      ]
     },
     "execution_count": 31,
     "metadata": {},
     "output_type": "execute_result"
    }
   ],
   "source": [
    "ultah.index(3)"
   ]
  },
  {
   "cell_type": "code",
   "execution_count": null,
   "id": "45b4e548",
   "metadata": {},
   "outputs": [],
   "source": []
  },
  {
   "cell_type": "markdown",
   "id": "f5aab081",
   "metadata": {},
   "source": [
    "# 5.18 Dictionaries"
   ]
  },
  {
   "cell_type": "code",
   "execution_count": 32,
   "id": "ecc6e2c5",
   "metadata": {},
   "outputs": [],
   "source": [
    "data_orang = {\n",
    "    'nama' : 'Ketut Dobler',\n",
    "    'umur' : 22,\n",
    "    'apakah_singgle' : False\n",
    "}"
   ]
  },
  {
   "cell_type": "code",
   "execution_count": 33,
   "id": "9a8fc796",
   "metadata": {},
   "outputs": [
    {
     "name": "stdout",
     "output_type": "stream",
     "text": [
      "Ketut Dobler\n"
     ]
    }
   ],
   "source": [
    "print(data_orang['nama'])"
   ]
  },
  {
   "cell_type": "code",
   "execution_count": 35,
   "id": "a58f19aa",
   "metadata": {},
   "outputs": [
    {
     "name": "stdout",
     "output_type": "stream",
     "text": [
      "Ketut Dobler\n"
     ]
    }
   ],
   "source": [
    "print(data_orang.get('nama'))"
   ]
  },
  {
   "cell_type": "code",
   "execution_count": 36,
   "id": "790442c6",
   "metadata": {},
   "outputs": [
    {
     "name": "stdout",
     "output_type": "stream",
     "text": [
      "None\n"
     ]
    }
   ],
   "source": [
    "print(data_orang.get('tanggal_lahir'))"
   ]
  },
  {
   "cell_type": "code",
   "execution_count": 37,
   "id": "5ea8668a",
   "metadata": {},
   "outputs": [
    {
     "name": "stdout",
     "output_type": "stream",
     "text": [
      "28-2-1999\n"
     ]
    }
   ],
   "source": [
    "print(data_orang.get('tanggal_lahir', '28-2-1999'))"
   ]
  },
  {
   "cell_type": "code",
   "execution_count": 39,
   "id": "6895772f",
   "metadata": {},
   "outputs": [],
   "source": [
    "data_orang['hp'] = '081234765890'"
   ]
  },
  {
   "cell_type": "code",
   "execution_count": 40,
   "id": "f518e216",
   "metadata": {},
   "outputs": [
    {
     "name": "stdout",
     "output_type": "stream",
     "text": [
      "081234765890\n"
     ]
    }
   ],
   "source": [
    "print(data_orang['hp'])"
   ]
  },
  {
   "cell_type": "code",
   "execution_count": 41,
   "id": "5e61ba03",
   "metadata": {},
   "outputs": [
    {
     "name": "stdout",
     "output_type": "stream",
     "text": [
      "{'nama': 'Ketut Dobler', 'umur': 22, 'apakah_singgle': False, 'hp': '081234765890'}\n"
     ]
    }
   ],
   "source": [
    "print(data_orang)"
   ]
  },
  {
   "cell_type": "code",
   "execution_count": 42,
   "id": "b6e1336f",
   "metadata": {},
   "outputs": [],
   "source": [
    "desu = {\n",
    "    'nama' : 'Sudiksa Temaja',\n",
    "    'tanggal_lahir' : '15-3-2003',\n",
    "    'umur' : '19',\n",
    "    'apakah_single' : False\n",
    "}"
   ]
  },
  {
   "cell_type": "code",
   "execution_count": 43,
   "id": "c07cb9b0",
   "metadata": {},
   "outputs": [
    {
     "name": "stdout",
     "output_type": "stream",
     "text": [
      "{'nama': 'Sudiksa Temaja', 'tanggal_lahir': '15-3-2003', 'umur': '19', 'apakah_single': False}\n"
     ]
    }
   ],
   "source": [
    "print(desu)"
   ]
  },
  {
   "cell_type": "code",
   "execution_count": 45,
   "id": "9fffd561",
   "metadata": {},
   "outputs": [
    {
     "name": "stdout",
     "output_type": "stream",
     "text": [
      "15-3-2003\n"
     ]
    }
   ],
   "source": [
    "print(desu.get('tanggal_lahir'))"
   ]
  },
  {
   "cell_type": "code",
   "execution_count": 46,
   "id": "7678ebae",
   "metadata": {},
   "outputs": [
    {
     "name": "stdout",
     "output_type": "stream",
     "text": [
      "081907968765\n"
     ]
    }
   ],
   "source": [
    "print(desu.get('hp','081907968765'))"
   ]
  },
  {
   "cell_type": "code",
   "execution_count": 47,
   "id": "d32a86b1",
   "metadata": {},
   "outputs": [
    {
     "name": "stdout",
     "output_type": "stream",
     "text": [
      "{'nama': 'Sudiksa Temaja', 'tanggal_lahir': '15-3-2003', 'umur': '19', 'apakah_single': False}\n"
     ]
    }
   ],
   "source": [
    "print(desu)"
   ]
  },
  {
   "cell_type": "code",
   "execution_count": 48,
   "id": "27253ca9",
   "metadata": {},
   "outputs": [],
   "source": [
    "desu['hp'] = '081907968705'"
   ]
  },
  {
   "cell_type": "code",
   "execution_count": 49,
   "id": "584a2050",
   "metadata": {},
   "outputs": [
    {
     "name": "stdout",
     "output_type": "stream",
     "text": [
      "{'nama': 'Sudiksa Temaja', 'tanggal_lahir': '15-3-2003', 'umur': '19', 'apakah_single': False, 'hp': '081907968705'}\n"
     ]
    }
   ],
   "source": [
    "print(desu)"
   ]
  },
  {
   "cell_type": "code",
   "execution_count": 52,
   "id": "a6fa9524",
   "metadata": {},
   "outputs": [],
   "source": [
    "angka = {\n",
    "    '0' : 'nol',\n",
    "    '1' : 'satu',\n",
    "    '2' : 'dua',\n",
    "    '3' : 'tiga',\n",
    "    '4' : 'empat',\n",
    "    '5' : 'lima',\n",
    "    '6' : 'enam',\n",
    "    '7' : 'tujuh',\n",
    "    '8' : 'delapan',\n",
    "    '9' : 'sembilan'\n",
    "}"
   ]
  },
  {
   "cell_type": "code",
   "execution_count": 53,
   "id": "b5e9a903",
   "metadata": {},
   "outputs": [
    {
     "name": "stdout",
     "output_type": "stream",
     "text": [
      "Masukan no Hp kamu: 081907968705\n",
      "nol \n",
      "nol delapan \n",
      "nol delapan satu \n",
      "nol delapan satu sembilan \n",
      "nol delapan satu sembilan nol \n",
      "nol delapan satu sembilan nol tujuh \n",
      "nol delapan satu sembilan nol tujuh sembilan \n",
      "nol delapan satu sembilan nol tujuh sembilan enam \n",
      "nol delapan satu sembilan nol tujuh sembilan enam delapan \n",
      "nol delapan satu sembilan nol tujuh sembilan enam delapan tujuh \n",
      "nol delapan satu sembilan nol tujuh sembilan enam delapan tujuh nol \n",
      "nol delapan satu sembilan nol tujuh sembilan enam delapan tujuh nol lima \n"
     ]
    }
   ],
   "source": [
    "no_hp = input('Masukan no Hp kamu: ')\n",
    "no_angka = ''\n",
    "for isi in no_hp:\n",
    "    no_angka += angka.get(isi) + ' '\n",
    "    print(no_angka)"
   ]
  },
  {
   "cell_type": "code",
   "execution_count": 56,
   "id": "b0687d4e",
   "metadata": {},
   "outputs": [
    {
     "name": "stdout",
     "output_type": "stream",
     "text": [
      "Masukan no Hp kamu: 08190798705\n",
      "lima \n"
     ]
    }
   ],
   "source": [
    "no_hp = input('Masukan no Hp kamu: ')\n",
    "no_angka = ''\n",
    "for isi in no_hp:\n",
    "    no_angka += angka.get(isi) + ' '\n",
    "print(no_angka)"
   ]
  },
  {
   "cell_type": "code",
   "execution_count": 55,
   "id": "1d0bfc5f",
   "metadata": {},
   "outputs": [
    {
     "name": "stdout",
     "output_type": "stream",
     "text": [
      "Masukkan nomor HP anda 081907968705\n",
      "nol delapan satu sembilan nol tujuh sembilan enam delapan tujuh nol lima \n"
     ]
    }
   ],
   "source": [
    "nomor_HP = input(\"Masukkan nomor HP anda \")\n",
    "nomor_angka = \"\"\n",
    "for isi in nomor_HP:\n",
    "    nomor_angka += angka.get(isi) + \" \"\n",
    "print(nomor_angka)"
   ]
  },
  {
   "cell_type": "code",
   "execution_count": null,
   "id": "41b82021",
   "metadata": {},
   "outputs": [],
   "source": []
  },
  {
   "cell_type": "markdown",
   "id": "7612f3d5",
   "metadata": {},
   "source": [
    "# 5.19 Fungsi dalam Python"
   ]
  },
  {
   "cell_type": "code",
   "execution_count": 58,
   "id": "f855653c",
   "metadata": {},
   "outputs": [],
   "source": [
    "def full_nama(first_name,last_name):\n",
    "    print(f\"Nama Lengkapnya adalah {first_name} {last_name}\")"
   ]
  },
  {
   "cell_type": "code",
   "execution_count": 66,
   "id": "bb6125cb",
   "metadata": {},
   "outputs": [
    {
     "name": "stdout",
     "output_type": "stream",
     "text": [
      "nama depan anda adalah dede\n",
      "nama belakang anda adalah sudiksa\n"
     ]
    },
    {
     "ename": "NameError",
     "evalue": "name 'nama_depan' is not defined",
     "output_type": "error",
     "traceback": [
      "\u001b[1;31m---------------------------------------------------------------------------\u001b[0m",
      "\u001b[1;31mNameError\u001b[0m                                 Traceback (most recent call last)",
      "\u001b[1;32m~\\AppData\\Local\\Temp/ipykernel_6132/3950148470.py\u001b[0m in \u001b[0;36m<module>\u001b[1;34m\u001b[0m\n\u001b[0;32m      1\u001b[0m \u001b[0mfirst_name\u001b[0m \u001b[1;33m=\u001b[0m \u001b[0minput\u001b[0m\u001b[1;33m(\u001b[0m\u001b[1;34m'nama depan anda adalah '\u001b[0m\u001b[1;33m)\u001b[0m\u001b[1;33m\u001b[0m\u001b[1;33m\u001b[0m\u001b[0m\n\u001b[0;32m      2\u001b[0m \u001b[0mlast_name\u001b[0m \u001b[1;33m=\u001b[0m \u001b[0minput\u001b[0m\u001b[1;33m(\u001b[0m\u001b[1;34m'nama belakang anda adalah '\u001b[0m\u001b[1;33m)\u001b[0m\u001b[1;33m\u001b[0m\u001b[1;33m\u001b[0m\u001b[0m\n\u001b[1;32m----> 3\u001b[1;33m \u001b[0mfull_nama\u001b[0m\u001b[1;33m(\u001b[0m\u001b[0mnama_depan\u001b[0m\u001b[1;33m,\u001b[0m\u001b[0mnama_belakang\u001b[0m\u001b[1;33m)\u001b[0m\u001b[1;33m\u001b[0m\u001b[1;33m\u001b[0m\u001b[0m\n\u001b[0m",
      "\u001b[1;31mNameError\u001b[0m: name 'nama_depan' is not defined"
     ]
    }
   ],
   "source": [
    "first_name = input('nama depan anda adalah ')\n",
    "last_name = input('nama belakang anda adalah ')\n",
    "full_nama(nama_depan,nama_belakang)"
   ]
  },
  {
   "cell_type": "code",
   "execution_count": 65,
   "id": "2184218b",
   "metadata": {},
   "outputs": [
    {
     "name": "stdout",
     "output_type": "stream",
     "text": [
      "nama depan anda adalah sudiksa\n",
      "nama belakang anda adalah temaja\n",
      "Nama Lengkapnya adalah sudiksa temaja\n"
     ]
    }
   ],
   "source": [
    "first_name = input(\"nama depan anda adalah \")\n",
    "last_name = input(\"nama belakang anda adalah \")\n",
    "full_nama(first_name,last_name)"
   ]
  },
  {
   "cell_type": "code",
   "execution_count": 67,
   "id": "a95fdacf",
   "metadata": {},
   "outputs": [],
   "source": [
    "def waktu_sampai(jarak,kecepatan):\n",
    "    waktu = jarak/kecepatan\n",
    "    print(waktu)"
   ]
  },
  {
   "cell_type": "code",
   "execution_count": 68,
   "id": "9db4c0a7",
   "metadata": {},
   "outputs": [],
   "source": [
    "def waktu_tempuh(jarak,kecepatan):\n",
    "    waktu = jarak/kecepatan\n",
    "    print(waktu)"
   ]
  },
  {
   "cell_type": "code",
   "execution_count": 69,
   "id": "87a9e7ec",
   "metadata": {},
   "outputs": [
    {
     "name": "stdout",
     "output_type": "stream",
     "text": [
      "1.3333333333333333\n"
     ]
    }
   ],
   "source": [
    "waktu_sampai(80,60)"
   ]
  },
  {
   "cell_type": "code",
   "execution_count": 70,
   "id": "466a0a17",
   "metadata": {},
   "outputs": [
    {
     "name": "stdout",
     "output_type": "stream",
     "text": [
      "1.3333333333333333\n"
     ]
    }
   ],
   "source": [
    "waktu_tempuh(80,60)"
   ]
  },
  {
   "cell_type": "code",
   "execution_count": 71,
   "id": "c9126ea4",
   "metadata": {},
   "outputs": [
    {
     "name": "stdout",
     "output_type": "stream",
     "text": [
      "1.3333333333333333\n",
      "None\n"
     ]
    }
   ],
   "source": [
    "a = waktu_sampai(80,60)\n",
    "print(a)"
   ]
  },
  {
   "cell_type": "code",
   "execution_count": 72,
   "id": "15277606",
   "metadata": {},
   "outputs": [
    {
     "name": "stdout",
     "output_type": "stream",
     "text": [
      "1.3333333333333333\n",
      "None\n"
     ]
    }
   ],
   "source": [
    "b = waktu_tempuh(80,60)\n",
    "print(b)"
   ]
  },
  {
   "cell_type": "code",
   "execution_count": 73,
   "id": "2f12db7e",
   "metadata": {},
   "outputs": [
    {
     "name": "stdout",
     "output_type": "stream",
     "text": [
      "3.0\n"
     ]
    }
   ],
   "source": [
    "waktu_tempuh(240,80)"
   ]
  },
  {
   "cell_type": "code",
   "execution_count": 74,
   "id": "9177b422",
   "metadata": {},
   "outputs": [
    {
     "name": "stdout",
     "output_type": "stream",
     "text": [
      "3.0\n",
      "None\n"
     ]
    }
   ],
   "source": [
    "b = waktu_tempuh(240,80)\n",
    "print(b)"
   ]
  },
  {
   "cell_type": "code",
   "execution_count": 75,
   "id": "187ed5c4",
   "metadata": {},
   "outputs": [
    {
     "name": "stdout",
     "output_type": "stream",
     "text": [
      "10.0\n"
     ]
    }
   ],
   "source": [
    "waktu_sampai(20,2)"
   ]
  },
  {
   "cell_type": "code",
   "execution_count": 76,
   "id": "09d4d1cd",
   "metadata": {},
   "outputs": [
    {
     "name": "stdout",
     "output_type": "stream",
     "text": [
      "10.0\n",
      "None\n"
     ]
    }
   ],
   "source": [
    "a = waktu_sampai(20,2)\n",
    "print(a)"
   ]
  },
  {
   "cell_type": "code",
   "execution_count": 77,
   "id": "8002a20a",
   "metadata": {},
   "outputs": [],
   "source": [
    "import numpy as np"
   ]
  },
  {
   "cell_type": "code",
   "execution_count": 78,
   "id": "fcf9cfb2",
   "metadata": {},
   "outputs": [],
   "source": [
    "def luas_segitiga(alas,tinggi):\n",
    "    luas = (1/2)*alas*tinggi\n",
    "    return luas\n",
    "def luas_lingkaran(jari_jari):\n",
    "    luas = np.pi*(jari_jari**2)\n",
    "    return luas\n",
    "def luas_persegi(sisi):\n",
    "    luas = sisi**2\n",
    "    return luas\n",
    "def luas_persegi_panjang(panjang,lebar):\n",
    "    luas = panjang*lebar\n",
    "    return luas"
   ]
  },
  {
   "cell_type": "code",
   "execution_count": 79,
   "id": "a63810fb",
   "metadata": {},
   "outputs": [
    {
     "name": "stdout",
     "output_type": "stream",
     "text": [
      "Tulis jenis bidangnya persegi panjang\n",
      "Berapakah panjangnya? 12\n",
      "Berapakah lebarnya? 10\n",
      "Luas persegi panjang adalah 120.0\n"
     ]
    }
   ],
   "source": [
    "jenis_bidang = input(\"Tulis jenis bidangnya \")\n",
    "if jenis_bidang.upper() == 'SEGITIGA':\n",
    "    alas = float(input('Berapakah panjang alasnya? '))\n",
    "    tinggi = float(input('Berapakah tingginya? '))\n",
    "    luas = luas_segitiga(alas,tinggi)\n",
    "    print(f\"Luas {jenis_bidang} adalah {luas}\")\n",
    "elif jenis_bidang.upper() == 'LINGKARAN':\n",
    "    jari_jari = float(input('Berapakah panjang jari-jarinya? '))\n",
    "    luas = luas_lingkaran(jari_jari)\n",
    "    print(f\"Luas {jenis_bidang} adalah {luas}\")\n",
    "elif (jenis_bidang.upper() == 'PERSEGI') or (jenis_bidang.upper() == 'BUJUR SANGKAR'):\n",
    "    sisi = float(input('Berapakah panjang sisinya? '))\n",
    "    luas = luas_persegi(sisi)\n",
    "    print(f\"Luas {jenis_bidang} adalah {luas}\")\n",
    "elif jenis_bidang.upper() == 'PERSEGI PANJANG':\n",
    "    panjang = float(input('Berapakah panjangnya? '))\n",
    "    lebar = float(input('Berapakah lebarnya? '))\n",
    "    luas = luas_persegi_panjang(panjang,lebar)\n",
    "    print(f\"Luas {jenis_bidang} adalah {luas}\")\n",
    "else : \n",
    "    print(f\"Maaf bidang {jenis_bidang} yang anda masukkan tidak ada.\")\n",
    "    print(\"pilihan cuma SEGITIGA, LINGKARAN, PERSEGI dan PERSEGI PANJANG.\")\n",
    "    print('Terimakasih')"
   ]
  },
  {
   "cell_type": "code",
   "execution_count": null,
   "id": "2ff905fe",
   "metadata": {},
   "outputs": [],
   "source": []
  }
 ],
 "metadata": {
  "kernelspec": {
   "display_name": "Python 3 (ipykernel)",
   "language": "python",
   "name": "python3"
  },
  "language_info": {
   "codemirror_mode": {
    "name": "ipython",
    "version": 3
   },
   "file_extension": ".py",
   "mimetype": "text/x-python",
   "name": "python",
   "nbconvert_exporter": "python",
   "pygments_lexer": "ipython3",
   "version": "3.9.7"
  }
 },
 "nbformat": 4,
 "nbformat_minor": 5
}
